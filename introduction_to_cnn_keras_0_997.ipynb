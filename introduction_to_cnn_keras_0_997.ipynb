{
  "cells": [
    {
      "cell_type": "markdown",
      "metadata": {
        "id": "view-in-github",
        "colab_type": "text"
      },
      "source": [
        "<a href=\"https://colab.research.google.com/github/imakapp/intro-cnn-keras/blob/main/introduction_to_cnn_keras_0_997.ipynb\" target=\"_parent\"><img src=\"https://colab.research.google.com/assets/colab-badge.svg\" alt=\"Open In Colab\"/></a>"
      ]
    },
    {
      "cell_type": "markdown",
      "metadata": {
        "_cell_guid": "d4c08f48-fe23-4ddb-ac46-d97f05397514",
        "_uuid": "f2156d1dd26a1243e18512002e10872c5bd7271e",
        "id": "h3mkFIHTBoXh"
      },
      "source": [
        "# Introduction to CNN Keras - Acc 0.997 (top 8%) \n",
        "\n",
        "* **1. Introduction**\n",
        "* **2. Data preparation**\n",
        "    * 2.1 Load data\n",
        "    * 2.2 Check for null and missing values\n",
        "    * 2.3 Normalization\n",
        "    * 2.4 Reshape\n",
        "    * 2.5 Label encoding\n",
        "    * 2.6 Split training and valdiation set\n",
        "* **3. CNN**\n",
        "    * 3.1 Define the model\n",
        "    * 3.2 Set the optimizer and annealer\n",
        "    * 3.3 Data augmentation\n",
        "* **4. Evaluate the model**\n",
        "    * 4.1 Training and validation curves\n",
        "    * 4.2 Confusion matrix\n",
        "* **5. Prediction and submition**\n",
        "    * 5.1 Predict and Submit results"
      ]
    },
    {
      "cell_type": "markdown",
      "metadata": {
        "_cell_guid": "eb88b372-a6e5-40c8-a1c6-c03799165490",
        "_uuid": "e9aff3cf1bb8daa73bec67b970d12195677679f3",
        "id": "8w6-ywuKBoXo"
      },
      "source": [
        "# 1. Introduction\n",
        "\n",
        "This is a 5 layers Sequential Convolutional Neural Network for digits recognition trained on MNIST dataset. I choosed to build it with keras API (Tensorflow backend) which is very intuitive. Firstly, I will prepare the data (handwritten digits images) then i will focus on the CNN modeling and evaluation.\n",
        "\n",
        "I achieved 99.671% of accuracy with this CNN trained in 2h30 on a single CPU (i5 2500k). For those who have a >= 3.0 GPU capabilites (from GTX 650 - to recent GPUs), you can use tensorflow-gpu with keras. Computation will be much much faster !!!\n",
        "\n",
        "**For computational reasons, i set the number of steps (epochs) to 2, if you want to achieve 99+% of accuracy set it to 30.**\n",
        "\n",
        "This Notebook follows three main parts:\n",
        "\n",
        "* The data preparation\n",
        "* The CNN modeling and evaluation\n",
        "* The results prediction and submission\n",
        "\n",
        "\n",
        "\n",
        "\n",
        "<img src=\"http://img1.imagilive.com/0717/mnist-sample.png\" ></img>"
      ]
    },
    {
      "cell_type": "code",
      "source": [
        "from google.colab import drive\n",
        "drive.mount('/content/drive')"
      ],
      "metadata": {
        "colab": {
          "base_uri": "https://localhost:8080/"
        },
        "id": "m3bWp-3IDM3s",
        "outputId": "1199b28d-42ea-4973-c962-3e93c0392666"
      },
      "execution_count": 28,
      "outputs": [
        {
          "output_type": "stream",
          "name": "stdout",
          "text": [
            "Drive already mounted at /content/drive; to attempt to forcibly remount, call drive.mount(\"/content/drive\", force_remount=True).\n"
          ]
        }
      ]
    },
    {
      "cell_type": "code",
      "execution_count": 29,
      "metadata": {
        "_cell_guid": "f67b9393-8ea1-4e23-b856-2ce149cfe421",
        "_execution_state": "idle",
        "_uuid": "72334cb006d02a4bcfc2a2fe622524eba824c6f8",
        "collapsed": true,
        "id": "0yW-mv60BoXp"
      },
      "outputs": [],
      "source": [
        "import pandas as pd\n",
        "import numpy as np\n",
        "import matplotlib.pyplot as plt\n",
        "import matplotlib.image as mpimg\n",
        "import seaborn as sns\n",
        "%matplotlib inline\n",
        "\n",
        "np.random.seed(2)\n",
        "\n",
        "from sklearn.model_selection import train_test_split\n",
        "from sklearn.metrics import confusion_matrix\n",
        "import itertools\n",
        "\n",
        "from keras.utils.np_utils import to_categorical # convert to one-hot-encoding\n",
        "from keras.models import Sequential\n",
        "from keras.layers import Dense, Dropout, Flatten, Conv2D, MaxPool2D\n",
        "from keras.optimizers import RMSprop\n",
        "from keras.preprocessing.image import ImageDataGenerator\n",
        "from keras.callbacks import ReduceLROnPlateau\n",
        "\n",
        "\n",
        "sns.set(style='white', context='notebook', palette='deep')"
      ]
    },
    {
      "cell_type": "markdown",
      "metadata": {
        "_cell_guid": "6d2fb3e6-ab71-4974-b5a2-4af1ebdb99f4",
        "_execution_state": "idle",
        "_uuid": "86061d98eccaa02efe0dab0fa3884e71fcf4c310",
        "id": "ZdXGqIrXBoXt"
      },
      "source": [
        "# 2. Data preparation\n",
        "## 2.1 Load data"
      ]
    },
    {
      "cell_type": "code",
      "execution_count": 30,
      "metadata": {
        "_cell_guid": "5e51d00e-62fd-4141-bf73-50ac4f2da7d0",
        "_execution_state": "idle",
        "_uuid": "84bbd5ab8d7895bd430d5ecfe2f7ddf77baa7b74",
        "collapsed": true,
        "id": "2mj2obnyBoXu"
      },
      "outputs": [],
      "source": [
        "# Load the data\n",
        "train = pd.read_csv(\"/content/drive/MyDrive/data-set/digit-recognizer/train.csv\")\n",
        "test = pd.read_csv(\"/content/drive/MyDrive/data-set/digit-recognizer/test.csv\")"
      ]
    },
    {
      "cell_type": "code",
      "execution_count": 31,
      "metadata": {
        "_cell_guid": "86570a36-5c20-460a-9dfd-2070548532a7",
        "_execution_state": "idle",
        "_uuid": "1213b979d5ed3e0d13824d17d694c79d2ece92fa",
        "collapsed": true,
        "colab": {
          "base_uri": "https://localhost:8080/",
          "height": 625
        },
        "id": "t21tcoboBoXu",
        "outputId": "0bf08022-fa2e-4382-d268-ce391ef39786"
      },
      "outputs": [
        {
          "output_type": "execute_result",
          "data": {
            "text/plain": [
              "1    4684\n",
              "7    4401\n",
              "3    4351\n",
              "9    4188\n",
              "2    4177\n",
              "6    4137\n",
              "0    4132\n",
              "4    4072\n",
              "8    4063\n",
              "5    3795\n",
              "Name: label, dtype: int64"
            ]
          },
          "metadata": {},
          "execution_count": 31
        },
        {
          "output_type": "display_data",
          "data": {
            "text/plain": [
              "<Figure size 640x480 with 1 Axes>"
            ],
            "image/png": "[encoded data removed]"
          },
          "metadata": {}
        }
      ],
      "source": [
        "Y_train = train[\"label\"]\n",
        "\n",
        "# Drop 'label' column\n",
        "X_train = train.drop(labels = [\"label\"],axis = 1) \n",
        "\n",
        "# free some space\n",
        "del train \n",
        "\n",
        "g = sns.countplot(Y_train)\n",
        "\n",
        "Y_train.value_counts()"
      ]
    },
    {
      "cell_type": "markdown",
      "metadata": {
        "_cell_guid": "5aea4062-1790-4987-b739-c4bebd79030f",
        "_uuid": "b7b1b1d36243c885e57374c8b60c5a7e10abe922",
        "id": "NiuEmbbnBoXv"
      },
      "source": [
        "We have similar counts for the 10 digits."
      ]
    },
    {
      "cell_type": "markdown",
      "metadata": {
        "_cell_guid": "5b7d4b66-a140-4fcc-a889-bcef007c880a",
        "_uuid": "5d77934302869925c19128c77e247b3c8ca84d71",
        "id": "5M9ZfSZCBoXv"
      },
      "source": [
        "## 2.2 Check for null and missing values"
      ]
    },
    {
      "cell_type": "code",
      "execution_count": 32,
      "metadata": {
        "_cell_guid": "ececaa00-2ae3-4d13-b631-438df085b030",
        "_execution_state": "idle",
        "_uuid": "cdf27c27e2a5b15e6d7bfc70de7a18c08f3feb7a",
        "collapsed": true,
        "colab": {
          "base_uri": "https://localhost:8080/"
        },
        "id": "72N-hyq-BoXw",
        "outputId": "169c0fa9-a626-41d8-df1f-1d2960ac86cc"
      },
      "outputs": [
        {
          "output_type": "execute_result",
          "data": {
            "text/plain": [
              "count       784\n",
              "unique        1\n",
              "top       False\n",
              "freq        784\n",
              "dtype: object"
            ]
          },
          "metadata": {},
          "execution_count": 32
        }
      ],
      "source": [
        "# Check the data\n",
        "X_train.isnull().any().describe()"
      ]
    },
    {
      "cell_type": "code",
      "execution_count": 33,
      "metadata": {
        "_cell_guid": "92572e80-8543-4e72-8767-5c9be8381b04",
        "_execution_state": "idle",
        "_uuid": "a0089bb7ec9aec76373db475399aea24699ae989",
        "collapsed": true,
        "colab": {
          "base_uri": "https://localhost:8080/"
        },
        "id": "9Yz-3fX8BoXw",
        "outputId": "a16cff74-88f5-4cb6-f336-0e9ae0275415"
      },
      "outputs": [
        {
          "output_type": "execute_result",
          "data": {
            "text/plain": [
              "count       784\n",
              "unique        1\n",
              "top       False\n",
              "freq        784\n",
              "dtype: object"
            ]
          },
          "metadata": {},
          "execution_count": 33
        }
      ],
      "source": [
        "test.isnull().any().describe()"
      ]
    },
    {
      "cell_type": "markdown",
      "metadata": {
        "_cell_guid": "09d04cae-4245-4659-85dd-ef48531da295",
        "_uuid": "c0bee59691c2df0b275c78e38e7f9907d02ac038",
        "id": "iec7G2eUBoXx"
      },
      "source": [
        "I check for corrupted images (missing values inside).\n",
        "\n",
        "There is no missing values in the train and test dataset. So we can safely go ahead."
      ]
    },
    {
      "cell_type": "markdown",
      "metadata": {
        "_cell_guid": "6812040d-80ad-43d2-a571-275f4f20067b",
        "_uuid": "2954681f25f0dcbe986e6914396cdbce61db591f",
        "id": "aDymcf33BoXx"
      },
      "source": [
        "## 2.3 Normalization"
      ]
    },
    {
      "cell_type": "markdown",
      "metadata": {
        "_cell_guid": "159d5854-437a-4d0f-bc1e-fc3f7e43d178",
        "_uuid": "0ecf4b52510ab7957d0d4eb646c0aa1ba5986273",
        "id": "_W-4lVoNBoXy"
      },
      "source": [
        "We perform a grayscale normalization to reduce the effect of illumination's differences. \n",
        "\n",
        "Moreover the CNN converg faster on [0..1] data than on [0..255]."
      ]
    },
    {
      "cell_type": "code",
      "execution_count": 34,
      "metadata": {
        "_cell_guid": "cdc4340b-6e24-4e12-be99-ac806098ff17",
        "_execution_state": "idle",
        "_uuid": "b5d4f8fcf2a967e2c7d57daedf95aa8c5ab7f8cb",
        "collapsed": true,
        "id": "2_0Vc5n-BoXy"
      },
      "outputs": [],
      "source": [
        "# Normalize the data\n",
        "X_train = X_train / 255.0\n",
        "test = test / 255.0"
      ]
    },
    {
      "cell_type": "markdown",
      "metadata": {
        "_cell_guid": "7413df94-bcb9-4f75-b174-c127d4445766",
        "_uuid": "a66741bf1ac597094f3a3166877008feef27c519",
        "id": "mLHZEi4mBoXz"
      },
      "source": [
        "## 2.3 Reshape"
      ]
    },
    {
      "cell_type": "code",
      "execution_count": 35,
      "metadata": {
        "_cell_guid": "34b6a5f7-8fd2-4387-8ef4-c9dc19584fed",
        "_execution_state": "idle",
        "_uuid": "f0a6ad80dab8e0f2c2e46165ccd9cd82dd162bc3",
        "collapsed": true,
        "id": "zilljQpHBoXz"
      },
      "outputs": [],
      "source": [
        "# Reshape image in 3 dimensions (height = 28px, width = 28px , canal = 1)\n",
        "X_train = X_train.values.reshape(-1,28,28,1)\n",
        "test = test.values.reshape(-1,28,28,1)"
      ]
    },
    {
      "cell_type": "markdown",
      "metadata": {
        "_cell_guid": "8decd1ce-7b7e-431d-8458-eaca18e0e1f7",
        "_uuid": "f4fb5553e188d9956f5d8b3a5d275ab00ea667ce",
        "id": "2_Y6lAoEBoXz"
      },
      "source": [
        "Train and test images (28px x 28px) has been stock into pandas.Dataframe as 1D vectors of 784 values. We reshape all data to 28x28x1 3D matrices. \n",
        "\n",
        "Keras requires an extra dimension in the end which correspond to channels. MNIST images are gray scaled so it use only one channel. For RGB images, there is 3 channels, we would have reshaped 784px vectors to 28x28x3 3D matrices. "
      ]
    },
    {
      "cell_type": "markdown",
      "metadata": {
        "_cell_guid": "bdb422e2-bdec-444f-97a5-283a1e54bf2c",
        "_uuid": "39b7a31e843bac6b705461bcce89da216b91799e",
        "id": "5-AlFuhlBoX0"
      },
      "source": [
        "## 2.5 Label encoding"
      ]
    },
    {
      "cell_type": "code",
      "execution_count": 36,
      "metadata": {
        "_cell_guid": "4b7f3e78-44dc-4561-b1f0-9429ee024cf4",
        "_execution_state": "idle",
        "_uuid": "cabefd1478d5c1bdfe57fd6a34395340916a854c",
        "collapsed": true,
        "id": "iBTMxCQOBoX0"
      },
      "outputs": [],
      "source": [
        "# Encode labels to one hot vectors (ex : 2 -> [0,0,1,0,0,0,0,0,0,0])\n",
        "Y_train = to_categorical(Y_train, num_classes = 10)"
      ]
    },
    {
      "cell_type": "markdown",
      "metadata": {
        "_cell_guid": "ae068bd8-b12e-4768-8a7e-0fc865dd7562",
        "_uuid": "dcfb688587dfc6feafd27442a3505e35dc01b82d",
        "id": "lzeOtIZWBoX0"
      },
      "source": [
        "Labels are 10 digits numbers from 0 to 9. We need to encode these lables to one hot vectors (ex : 2 -> [0,0,1,0,0,0,0,0,0,0])."
      ]
    },
    {
      "cell_type": "markdown",
      "metadata": {
        "_cell_guid": "32152fc3-a570-4d64-8a7d-6c689a4acd33",
        "_uuid": "d8abbbf31483b94e1b29d07c4c8253d1311648a7",
        "id": "kS4XxtGwBoX1"
      },
      "source": [
        "## 2.6 Split training and valdiation set "
      ]
    },
    {
      "cell_type": "code",
      "execution_count": 37,
      "metadata": {
        "_cell_guid": "3a698301-9759-4279-ae48-fd980f89ea53",
        "_execution_state": "idle",
        "_uuid": "6e51c925c6e0f1b936679c9649fef345c853555f",
        "collapsed": true,
        "id": "1VQURGBDBoX1"
      },
      "outputs": [],
      "source": [
        "# Set the random seed\n",
        "random_seed = 2"
      ]
    },
    {
      "cell_type": "code",
      "execution_count": 38,
      "metadata": {
        "_cell_guid": "dcd25ebb-d845-4d32-9867-082e352b1396",
        "_execution_state": "idle",
        "_uuid": "b779ac76d8317647db92d5a88b4098d212d72884",
        "collapsed": true,
        "id": "NID_-feDBoX1"
      },
      "outputs": [],
      "source": [
        "# Split the train and the validation set for the fitting\n",
        "X_train, X_val, Y_train, Y_val = train_test_split(X_train, Y_train, test_size = 0.1, random_state=random_seed)"
      ]
    },
    {
      "cell_type": "markdown",
      "metadata": {
        "_cell_guid": "3c99964f-4500-4f1c-947d-c67e644e34db",
        "_uuid": "72ed54a305eebf80e8b8b0f7eabde1332a5a85a3",
        "id": "cQXPWG5VBoX2"
      },
      "source": [
        "I choosed to split the train set in two parts : a small fraction (10%) became the validation set which the model is evaluated and the rest (90%) is used to train the model.\n",
        "\n",
        "Since we have 42 000 training images of balanced labels (see 2.1 Load data), a random split of the train set doesn't cause some labels to be over represented in the validation set. Be carefull with some unbalanced dataset a simple random split could cause inaccurate evaluation during the validation. \n",
        "\n",
        "To avoid that, you could use stratify = True option in train_test_split function (**Only for >=0.17 sklearn versions**)."
      ]
    },
    {
      "cell_type": "markdown",
      "metadata": {
        "_cell_guid": "adbeacf0-0dc0-4675-b2df-9c9663750f32",
        "_uuid": "60eed15ec5bc0d354385301789ecb8538fc02267",
        "id": "Jp2JO8E0BoX2"
      },
      "source": [
        "We can get a better sense for one of these examples by visualising the image and looking at the label."
      ]
    },
    {
      "cell_type": "code",
      "execution_count": 39,
      "metadata": {
        "_cell_guid": "5f76131b-4ba0-45f1-a98c-bd4e7d561793",
        "_execution_state": "idle",
        "_uuid": "e0dae8943d3d35f075dba3d7ba31bde1d4bf2ff4",
        "collapsed": true,
        "colab": {
          "base_uri": "https://localhost:8080/",
          "height": 434
        },
        "id": "FaFeaN1rBoX3",
        "outputId": "497e6dd9-8311-42f8-b28f-0d41e38832d5"
      },
      "outputs": [
        {
          "output_type": "display_data",
          "data": {
            "text/plain": [
              "<Figure size 640x480 with 1 Axes>"
            ],
            "image/png": "[encoded data removed]"
          },
          "metadata": {}
        }
      ],
      "source": [
        "# Some examples\n",
        "g = plt.imshow(X_train[0][:,:,0])"
      ]
    },
    {
      "cell_type": "markdown",
      "metadata": {
        "_cell_guid": "d5265777-aeb3-449d-b171-d88cad74c0a4",
        "_uuid": "5fa18b37a9acd9e098bac1d12264b0dd4310fdd3",
        "id": "suWxxlDYBoX3"
      },
      "source": [
        "# 3. CNN\n",
        "## 3.1 Define the model"
      ]
    },
    {
      "cell_type": "markdown",
      "metadata": {
        "_cell_guid": "504fa00e-148c-4364-9b68-218b3aaedfdb",
        "_uuid": "7697570491420f957f6e4d3569d51410b5277250",
        "id": "aKFULCMpBoX3"
      },
      "source": [
        "I used the Keras Sequential API, where you have just to add one layer at a time, starting from the input.\n",
        "\n",
        "The first is the convolutional (Conv2D) layer. It is like a set of learnable filters. I choosed to set 32 filters for the two firsts conv2D layers and 64 filters for the two last ones. Each filter transforms a part of the image (defined by the kernel size) using the kernel filter. The kernel filter matrix is applied on the whole image. Filters can be seen as a transformation of the image.\n",
        "\n",
        "The CNN can isolate features that are useful everywhere from these transformed images (feature maps).\n",
        "\n",
        "The second important layer in CNN is the pooling (MaxPool2D) layer. This layer simply acts as a downsampling filter. It looks at the 2 neighboring pixels and picks the maximal value. These are used to reduce computational cost, and to some extent also reduce overfitting. We have to choose the pooling size (i.e the area size pooled each time) more the pooling dimension is high, more the downsampling is important. \n",
        "\n",
        "Combining convolutional and pooling layers, CNN are able to combine local features and learn more global features of the image.\n",
        "\n",
        "Dropout is a regularization method, where a proportion of nodes in the layer are randomly ignored (setting their wieghts to zero) for each training sample. This drops randomly a propotion of the network and forces the network to learn features in a distributed way. This technique also improves generalization and reduces the overfitting. \n",
        "\n",
        "'relu' is the rectifier (activation function max(0,x). The rectifier activation function is used to add non linearity to the network. \n",
        "\n",
        "The Flatten layer is use to convert the final feature maps into a one single 1D vector. This flattening step is needed so that you can make use of fully connected layers after some convolutional/maxpool layers. It combines all the found local features of the previous convolutional layers.\n",
        "\n",
        "In the end i used the features in two fully-connected (Dense) layers which is just artificial an neural networks (ANN) classifier. In the last layer(Dense(10,activation=\"softmax\")) the net outputs distribution of probability of each class."
      ]
    },
    {
      "cell_type": "code",
      "execution_count": 40,
      "metadata": {
        "_cell_guid": "1e0f3f88-2ad7-459e-8e02-aecc5f3511ae",
        "_execution_state": "idle",
        "_uuid": "f7991ef6871a26f9fa57acdcd460a69bab53e804",
        "collapsed": true,
        "id": "y0u1hxDGBoX4"
      },
      "outputs": [],
      "source": [
        "# Set the CNN model \n",
        "# my CNN architechture is In -> [[Conv2D->relu]*2 -> MaxPool2D -> Dropout]*2 -> Flatten -> Dense -> Dropout -> Out\n",
        "\n",
        "model = Sequential()\n",
        "\n",
        "model.add(Conv2D(filters = 32, kernel_size = (5,5),padding = 'Same', \n",
        "                 activation ='relu', input_shape = (28,28,1)))\n",
        "model.add(Conv2D(filters = 32, kernel_size = (5,5),padding = 'Same', \n",
        "                 activation ='relu'))\n",
        "model.add(MaxPool2D(pool_size=(2,2)))\n",
        "model.add(Dropout(0.25))\n",
        "\n",
        "\n",
        "model.add(Conv2D(filters = 64, kernel_size = (3,3),padding = 'Same', \n",
        "                 activation ='relu'))\n",
        "model.add(Conv2D(filters = 64, kernel_size = (3,3),padding = 'Same', \n",
        "                 activation ='relu'))\n",
        "model.add(MaxPool2D(pool_size=(2,2), strides=(2,2)))\n",
        "model.add(Dropout(0.25))\n",
        "\n",
        "\n",
        "model.add(Flatten())\n",
        "model.add(Dense(256, activation = \"relu\"))\n",
        "model.add(Dropout(0.5))\n",
        "model.add(Dense(10, activation = \"softmax\"))"
      ]
    },
    {
      "cell_type": "markdown",
      "metadata": {
        "_cell_guid": "0e26b6a3-ef9d-4ae5-9d79-d5e4b073251a",
        "_uuid": "7065512cf892ba49f0c06e239e3a20ff13667ef2",
        "id": "SmjehmO6BoX5"
      },
      "source": [
        "## 3.2 Set the optimizer and annealer\n",
        "\n",
        "Once our layers are added to the model, we need to set up a score function, a loss function and an optimisation algorithm.\n",
        "\n",
        "We define the loss function to measure how poorly our model performs on images with known labels. It is the error rate between the oberved labels and the predicted ones. We use a specific form for categorical classifications (>2 classes) called the \"categorical_crossentropy\".\n",
        "\n",
        "The most important function is the optimizer. This function will iteratively improve parameters (filters kernel values, weights and bias of neurons ...) in order to minimise the loss. \n",
        "\n",
        "I choosed RMSprop (with default values), it is a very effective optimizer. The RMSProp update adjusts the Adagrad method in a very simple way in an attempt to reduce its aggressive, monotonically decreasing learning rate.\n",
        "We could also have used Stochastic Gradient Descent ('sgd') optimizer, but it is slower than RMSprop.\n",
        "\n",
        "The metric function \"accuracy\" is used is to evaluate the performance our model.\n",
        "This metric function is similar to the loss function, except that the results from the metric evaluation are not used when training the model (only for evaluation)."
      ]
    },
    {
      "cell_type": "code",
      "execution_count": 41,
      "metadata": {
        "_cell_guid": "a4c55409-6a65-400a-b5e8-a1dc535429c0",
        "_execution_state": "idle",
        "_uuid": "420c704367b397b8255fefe9d882b35ac8929b95",
        "collapsed": true,
        "colab": {
          "base_uri": "https://localhost:8080/"
        },
        "id": "_bjF-htzBoX5",
        "outputId": "4e3ed6ce-d010-4742-cc1a-4d5cdd87eba7"
      },
      "outputs": [
        {
          "output_type": "stream",
          "name": "stderr",
          "text": [
            "/usr/local/lib/python3.10/dist-packages/keras/optimizers/legacy/rmsprop.py:143: UserWarning: The `lr` argument is deprecated, use `learning_rate` instead.\n",
            "  super().__init__(name, **kwargs)\n"
          ]
        }
      ],
      "source": [
        "# Define the optimizer\n",
        "optimizer = RMSprop(lr=0.001, rho=0.9, epsilon=1e-08, decay=0.0)"
      ]
    },
    {
      "cell_type": "code",
      "execution_count": 42,
      "metadata": {
        "_cell_guid": "0bd89b79-1a74-40da-af9a-7a76a8b96ff2",
        "_execution_state": "idle",
        "_uuid": "b4c0288622227a3cd05479aa765e324dbb852f34",
        "collapsed": true,
        "id": "_tf2vng1BoX5"
      },
      "outputs": [],
      "source": [
        "# Compile the model\n",
        "model.compile(optimizer = optimizer , loss = \"categorical_crossentropy\", metrics=[\"accuracy\"])"
      ]
    },
    {
      "cell_type": "markdown",
      "metadata": {
        "_cell_guid": "6bc49be3-11e5-48fb-b70f-601aec0f0c86",
        "_uuid": "f4d89b29d55b328e8c446880505c54e674eeec38",
        "id": "-oWHN6mMBoX6"
      },
      "source": [
        "<img src=\"http://img1.imagilive.com/0717/learningrates.jpg\"> </img>"
      ]
    },
    {
      "cell_type": "markdown",
      "metadata": {
        "_cell_guid": "35b826b6-c516-47d0-8469-f8d04a102118",
        "_uuid": "bb90d48f4426d1baeb0404f2431e04e3cade59df",
        "id": "yqz0IyKfBoX6"
      },
      "source": [
        "In order to make the optimizer converge faster and closest to the global minimum of the loss function, i used an annealing method of the learning rate (LR).\n",
        "\n",
        "The LR is the step by which the optimizer walks through the 'loss landscape'. The higher LR, the bigger are the steps and the quicker is the convergence. However the sampling is very poor with an high LR and the optimizer could probably fall into a local minima.\n",
        "\n",
        "Its better to have a decreasing learning rate during the training to reach efficiently the global minimum of the loss function. \n",
        "\n",
        "To keep the advantage of the fast computation time with a high LR, i decreased the LR dynamically every X steps (epochs) depending if it is necessary (when accuracy is not improved).\n",
        "\n",
        "With the ReduceLROnPlateau function from Keras.callbacks, i choose to reduce the LR by half if the accuracy is not improved after 3 epochs."
      ]
    },
    {
      "cell_type": "code",
      "execution_count": 43,
      "metadata": {
        "_cell_guid": "b5987a18-6bbe-42a2-9d31-333ebc4f7af1",
        "_execution_state": "idle",
        "_uuid": "c4a5b4e462ec5362c47eef4fcc7956fd4e203307",
        "collapsed": true,
        "id": "KyO34MWSBoX6"
      },
      "outputs": [],
      "source": [
        "# Set a learning rate annealer\n",
        "learning_rate_reduction = ReduceLROnPlateau(monitor='val_acc', \n",
        "                                            patience=3, \n",
        "                                            verbose=1, \n",
        "                                            factor=0.5, \n",
        "                                            min_lr=0.00001)"
      ]
    },
    {
      "cell_type": "code",
      "execution_count": 44,
      "metadata": {
        "_cell_guid": "970db455-b393-4b25-806d-92c6766c12c0",
        "_execution_state": "idle",
        "_uuid": "26b0647c46efdb6b1096cf7335a7bf2a3417543a",
        "collapsed": true,
        "id": "mUff49IyBoX7"
      },
      "outputs": [],
      "source": [
        "epochs = 1 # Turn epochs to 30 to get 0.9967 accuracy\n",
        "batch_size = 86"
      ]
    },
    {
      "cell_type": "markdown",
      "metadata": {
        "_cell_guid": "241a0f4f-13f5-4b13-be1e-4e3e4a714c06",
        "_uuid": "f24df64b223e0177c94025b6767ab19b722c5386",
        "id": "TIuQR_F4BoX7"
      },
      "source": [
        "## 3.3 Data augmentation "
      ]
    },
    {
      "cell_type": "markdown",
      "metadata": {
        "_cell_guid": "e2d41e30-0724-40fb-a901-750e514ba9f9",
        "_uuid": "9e498b91419439f0fa791e595f202d9a0d56ad6b",
        "id": "-sq6BUUVBoX8"
      },
      "source": [
        "In order to avoid overfitting problem, we need to expand artificially our handwritten digit dataset. We can make your existing dataset even larger. The idea is to alter the training data with small transformations to reproduce the variations occuring when someone is writing a digit.\n",
        "\n",
        "For example, the number is not centered \n",
        "The scale is not the same (some who write with big/small numbers)\n",
        "The image is rotated...\n",
        "\n",
        "Approaches that alter the training data in ways that change the array representation while keeping the label the same are known as data augmentation techniques. Some popular augmentations people use are grayscales, horizontal flips, vertical flips, random crops, color jitters, translations, rotations, and much more. \n",
        "\n",
        "By applying just a couple of these transformations to our training data, we can easily double or triple the number of training examples and create a very robust model.\n",
        "\n",
        "The improvement is important : \n",
        "   - Without data augmentation i obtained an accuracy of 98.114%\n",
        "   - With data augmentation i achieved 99.67% of accuracy"
      ]
    },
    {
      "cell_type": "code",
      "execution_count": 45,
      "metadata": {
        "_cell_guid": "ade93d2d-90c6-4401-af95-f7d65f8c0a20",
        "_execution_state": "idle",
        "_uuid": "d4e9e1ade3c04f9ca4d8cd44e799f9e09524d5a1",
        "collapsed": true,
        "id": "39kFotdoBoX8"
      },
      "outputs": [],
      "source": [
        "# Without data augmentation i obtained an accuracy of 0.98114\n",
        "#history = model.fit(X_train, Y_train, batch_size = batch_size, epochs = epochs, \n",
        "#          validation_data = (X_val, Y_val), verbose = 2)"
      ]
    },
    {
      "cell_type": "code",
      "execution_count": 46,
      "metadata": {
        "_cell_guid": "b342befe-1a6f-44bf-8dab-28033a729122",
        "_execution_state": "idle",
        "_uuid": "21d6192c87d92d497c797656474bccd9cefc5647",
        "collapsed": true,
        "id": "Ov0XApl5BoYU"
      },
      "outputs": [],
      "source": [
        "# With data augmentation to prevent overfitting (accuracy 0.99286)\n",
        "\n",
        "datagen = ImageDataGenerator(\n",
        "        featurewise_center=False,  # set input mean to 0 over the dataset\n",
        "        samplewise_center=False,  # set each sample mean to 0\n",
        "        featurewise_std_normalization=False,  # divide inputs by std of the dataset\n",
        "        samplewise_std_normalization=False,  # divide each input by its std\n",
        "        zca_whitening=False,  # apply ZCA whitening\n",
        "        rotation_range=10,  # randomly rotate images in the range (degrees, 0 to 180)\n",
        "        zoom_range = 0.1, # Randomly zoom image \n",
        "        width_shift_range=0.1,  # randomly shift images horizontally (fraction of total width)\n",
        "        height_shift_range=0.1,  # randomly shift images vertically (fraction of total height)\n",
        "        horizontal_flip=False,  # randomly flip images\n",
        "        vertical_flip=False)  # randomly flip images\n",
        "\n",
        "\n",
        "datagen.fit(X_train)"
      ]
    },
    {
      "cell_type": "markdown",
      "metadata": {
        "_cell_guid": "22f80b8a-d4f6-4a34-b33d-ff7334f45d94",
        "_uuid": "51f16d0a5b9d9373438474e7defa7348359d7c18",
        "id": "2R_1Hao6BoYU"
      },
      "source": [
        "For the data augmentation, i choosed to :\n",
        "   - Randomly rotate some training images by 10 degrees\n",
        "   - Randomly  Zoom by 10% some training images\n",
        "   - Randomly shift images horizontally by 10% of the width\n",
        "   - Randomly shift images vertically by 10% of the height\n",
        "   \n",
        "I did not apply a vertical_flip nor horizontal_flip since it could have lead to misclassify symetrical numbers such as 6 and 9.\n",
        "\n",
        "Once our model is ready, we fit the training dataset ."
      ]
    },
    {
      "cell_type": "code",
      "execution_count": 48,
      "metadata": {
        "_cell_guid": "b453af8d-9736-43e3-b486-7a1cd7dd8909",
        "_execution_state": "idle",
        "_uuid": "cf36b3d029f95b553be02d612e097a9769ee8252",
        "collapsed": true,
        "colab": {
          "base_uri": "https://localhost:8080/"
        },
        "id": "4H10cFS2BoYV",
        "outputId": "c59458c3-3c43-4947-f60c-25123ce2053b"
      },
      "outputs": [
        {
          "output_type": "stream",
          "name": "stderr",
          "text": [
            "WARNING:tensorflow:Learning rate reduction is conditioned on metric `val_acc` which is not available. Available metrics are: loss,accuracy,val_loss,val_accuracy,lr\n"
          ]
        },
        {
          "output_type": "stream",
          "name": "stdout",
          "text": [
            "439/439 - 331s - loss: 0.1004 - accuracy: 0.9691 - val_loss: 0.0526 - val_accuracy: 0.9829 - lr: 0.0010 - 331s/epoch - 754ms/step\n"
          ]
        }
      ],
      "source": [
        "# Fit the model\n",
        "history = model.fit(X_train, Y_train, batch_size=batch_size, epochs=epochs,\n",
        "                    validation_data=(X_val, Y_val), verbose=2,\n",
        "                    steps_per_epoch=X_train.shape[0] // batch_size,\n",
        "                    callbacks=[learning_rate_reduction])"
      ]
    },
    {
      "cell_type": "markdown",
      "metadata": {
        "_cell_guid": "e758621d-b27b-40ff-a93f-bebd2e0e5243",
        "_uuid": "0a1834f2a9f2db15dcaba4a84004b9627d714469",
        "id": "AmrgcWjxBoYV"
      },
      "source": [
        "# 4. Evaluate the model\n",
        "## 4.1 Training and validation curves"
      ]
    },
    {
      "cell_type": "markdown",
      "metadata": {
        "_cell_guid": "69df90d7-f2fd-497d-a0b2-57c497a3e645",
        "_uuid": "ba77212f82b781b0e5a4e494897b18c31c5e30a3",
        "id": "4syaaekQBoYX"
      },
      "source": [
        "The code below is for plotting loss and accuracy curves for training and validation. Since, i set epochs = 2 on this notebook .\n",
        "I'll show you the training and validation curves i obtained from the model i build with 30 epochs (2h30)"
      ]
    },
    {
      "cell_type": "code",
      "source": [
        "# Plot the loss and accuracy curves for training and validation \n",
        "fig, ax = plt.subplots(2,1)\n",
        "ax[0].plot(history.history['loss'], color='b', label=\"Training loss\")\n",
        "ax[0].plot(history.history['val_loss'], color='r', label=\"validation loss\",axes =ax[0])\n",
        "legend = ax[0].legend(loc='best', shadow=True)\n",
        "\n",
        "ax[1].plot(history.history['accuracy'], color='b', label=\"Training accuracy\")\n",
        "ax[1].plot(history.history['val_accuracy'], color='r',label=\"Validation accuracy\")\n",
        "legend = ax[1].legend(loc='best', shadow=True)"
      ],
      "metadata": {
        "colab": {
          "base_uri": "https://localhost:8080/",
          "height": 434
        },
        "id": "nV5jC6a61FFl",
        "outputId": "10ae6bc8-3a7e-4336-8218-3860d5cec0f8"
      },
      "execution_count": 49,
      "outputs": [
        {
          "output_type": "display_data",
          "data": {
            "text/plain": [
              "<Figure size 640x480 with 2 Axes>"
            ],
            "image/png": "[encoded data removed]"
          },
          "metadata": {}
        }
      ]
    },
    {
      "cell_type": "markdown",
      "metadata": {
        "_cell_guid": "bacff684-79bb-4ede-83c1-ccb7cf92df77",
        "_uuid": "9f2920cbbfb6f1f566fac4afdd4030c75ee5bf66",
        "id": "UNqBKkyYBoYX"
      },
      "source": [
        "<img src=\"http://img1.imagilive.com/0717/mnist_099671_train_val_loss_acc.png\"></img>\n",
        "\n",
        "The model reaches almost 99% (98.7+%) accuracy on the validation dataset after 2 epochs. The validation accuracy is greater than the training accuracy almost evry time during the training. That means that our model dosen't not overfit the training set.\n",
        "\n",
        "Our model is very well trained  !!! \n",
        "\n",
        "<img src=\"http://img1.imagilive.com/0717/accuracies1de.jpg\"/>"
      ]
    },
    {
      "cell_type": "markdown",
      "metadata": {
        "_cell_guid": "de1c65bd-4a88-4351-9f4b-562e72e7e0fd",
        "_uuid": "63698d7d51381b33892ce164b0f21930abb3e937",
        "id": "dmzghpiMBoYY"
      },
      "source": [
        "## 4.2 Confusion matrix"
      ]
    },
    {
      "cell_type": "markdown",
      "metadata": {
        "_cell_guid": "5688faa0-b33b-4e92-b125-7fa0b37e7df3",
        "_uuid": "3306d29b732341663e50866140dc569360701a81",
        "id": "X9XkirIjBoYY"
      },
      "source": [
        "Confusion matrix can be very helpfull to see your model drawbacks.\n",
        "\n",
        "I plot the confusion matrix of the validation results."
      ]
    },
    {
      "cell_type": "code",
      "execution_count": 50,
      "metadata": {
        "_cell_guid": "11361e73-8250-4bf5-a353-b0f8ea83e659",
        "_execution_state": "idle",
        "_uuid": "16e161179bf1b51ba66c39b2cead883f1db3a9c7",
        "collapsed": true,
        "id": "g4ajNBcpBoYZ",
        "colab": {
          "base_uri": "https://localhost:8080/",
          "height": 521
        },
        "outputId": "d4bd4f25-aed3-4034-eec8-68cf1124d842"
      },
      "outputs": [
        {
          "output_type": "stream",
          "name": "stdout",
          "text": [
            "132/132 [==============================] - 8s 58ms/step\n"
          ]
        },
        {
          "output_type": "display_data",
          "data": {
            "text/plain": [
              "<Figure size 640x480 with 2 Axes>"
            ],
            "image/png": "[encoded data removed]"
          },
          "metadata": {}
        }
      ],
      "source": [
        "# Look at confusion matrix \n",
        "\n",
        "def plot_confusion_matrix(cm, classes,\n",
        "                          normalize=False,\n",
        "                          title='Confusion matrix',\n",
        "                          cmap=plt.cm.Blues):\n",
        "    \"\"\"\n",
        "    This function prints and plots the confusion matrix.\n",
        "    Normalization can be applied by setting `normalize=True`.\n",
        "    \"\"\"\n",
        "    plt.imshow(cm, interpolation='nearest', cmap=cmap)\n",
        "    plt.title(title)\n",
        "    plt.colorbar()\n",
        "    tick_marks = np.arange(len(classes))\n",
        "    plt.xticks(tick_marks, classes, rotation=45)\n",
        "    plt.yticks(tick_marks, classes)\n",
        "\n",
        "    if normalize:\n",
        "        cm = cm.astype('float') / cm.sum(axis=1)[:, np.newaxis]\n",
        "\n",
        "    thresh = cm.max() / 2.\n",
        "    for i, j in itertools.product(range(cm.shape[0]), range(cm.shape[1])):\n",
        "        plt.text(j, i, cm[i, j],\n",
        "                 horizontalalignment=\"center\",\n",
        "                 color=\"white\" if cm[i, j] > thresh else \"black\")\n",
        "\n",
        "    plt.tight_layout()\n",
        "    plt.ylabel('True label')\n",
        "    plt.xlabel('Predicted label')\n",
        "\n",
        "# Predict the values from the validation dataset\n",
        "Y_pred = model.predict(X_val)\n",
        "# Convert predictions classes to one hot vectors \n",
        "Y_pred_classes = np.argmax(Y_pred,axis = 1) \n",
        "# Convert validation observations to one hot vectors\n",
        "Y_true = np.argmax(Y_val,axis = 1) \n",
        "# compute the confusion matrix\n",
        "confusion_mtx = confusion_matrix(Y_true, Y_pred_classes) \n",
        "# plot the confusion matrix\n",
        "plot_confusion_matrix(confusion_mtx, classes = range(10)) "
      ]
    },
    {
      "cell_type": "markdown",
      "metadata": {
        "_cell_guid": "1b8a5cdc-9122-4e31-b9fa-0f6b57d33fc8",
        "_uuid": "ecb928433299b163ecc1f6c4e66d4ddcf38fe898",
        "id": "nISQNTUzBoYZ"
      },
      "source": [
        "Here we can see that our CNN performs very well on all digits with few errors considering the size of the validation set (4 200 images).\n",
        "\n",
        "However, it seems that our CNN has some little troubles with the 4 digits, hey are misclassified as 9. Sometime it is very difficult to catch the difference between 4 and 9 when curves are smooth."
      ]
    },
    {
      "cell_type": "markdown",
      "metadata": {
        "_cell_guid": "ef54d686-6f79-4d96-a5a0-a64657bd742e",
        "_execution_state": "idle",
        "_uuid": "afd59cae1115188b77abd3471e5e89790cef80a0",
        "id": "kraJIUh9BoYa"
      },
      "source": [
        "Let's investigate for errors. \n",
        "\n",
        "I want to see the most important errors . For that purpose i need to get the difference between the probabilities of real value and the predicted ones in the results."
      ]
    },
    {
      "cell_type": "code",
      "execution_count": 51,
      "metadata": {
        "_cell_guid": "7b0f31b8-c18b-4529-b0d8-eb4c31e30bbf",
        "_execution_state": "idle",
        "_uuid": "e7a3d6449b499a29db224e42e950f21ca1ec4e36",
        "collapsed": true,
        "id": "msvV3vedBoYa",
        "colab": {
          "base_uri": "https://localhost:8080/",
          "height": 455
        },
        "outputId": "c25393e6-49e8-40bc-a575-d82a42860d24"
      },
      "outputs": [
        {
          "output_type": "display_data",
          "data": {
            "text/plain": [
              "<Figure size 640x480 with 6 Axes>"
            ],
            "image/png": "[encoded data removed]"
          },
          "metadata": {}
        }
      ],
      "source": [
        "# Display some error results \n",
        "\n",
        "# Errors are difference between predicted labels and true labels\n",
        "errors = (Y_pred_classes - Y_true != 0)\n",
        "\n",
        "Y_pred_classes_errors = Y_pred_classes[errors]\n",
        "Y_pred_errors = Y_pred[errors]\n",
        "Y_true_errors = Y_true[errors]\n",
        "X_val_errors = X_val[errors]\n",
        "\n",
        "def display_errors(errors_index,img_errors,pred_errors, obs_errors):\n",
        "    \"\"\" This function shows 6 images with their predicted and real labels\"\"\"\n",
        "    n = 0\n",
        "    nrows = 2\n",
        "    ncols = 3\n",
        "    fig, ax = plt.subplots(nrows,ncols,sharex=True,sharey=True)\n",
        "    for row in range(nrows):\n",
        "        for col in range(ncols):\n",
        "            error = errors_index[n]\n",
        "            ax[row,col].imshow((img_errors[error]).reshape((28,28)))\n",
        "            ax[row,col].set_title(\"Predicted label :{}\\nTrue label :{}\".format(pred_errors[error],obs_errors[error]))\n",
        "            n += 1\n",
        "\n",
        "# Probabilities of the wrong predicted numbers\n",
        "Y_pred_errors_prob = np.max(Y_pred_errors,axis = 1)\n",
        "\n",
        "# Predicted probabilities of the true values in the error set\n",
        "true_prob_errors = np.diagonal(np.take(Y_pred_errors, Y_true_errors, axis=1))\n",
        "\n",
        "# Difference between the probability of the predicted label and the true label\n",
        "delta_pred_true_errors = Y_pred_errors_prob - true_prob_errors\n",
        "\n",
        "# Sorted list of the delta prob errors\n",
        "sorted_dela_errors = np.argsort(delta_pred_true_errors)\n",
        "\n",
        "# Top 6 errors \n",
        "most_important_errors = sorted_dela_errors[-6:]\n",
        "\n",
        "# Show the top 6 errors\n",
        "display_errors(most_important_errors, X_val_errors, Y_pred_classes_errors, Y_true_errors)"
      ]
    },
    {
      "cell_type": "markdown",
      "metadata": {
        "_cell_guid": "d21c4caf-e699-4647-8ef4-e60e868607ae",
        "_execution_state": "idle",
        "_uuid": "afc408bd5545a6a2b2d4e04989890546263cb642",
        "id": "ZBXkH93EBoYc"
      },
      "source": [
        "The most important errors are also the most intrigous. \n",
        "\n",
        "For those six case, the model is not ridiculous. Some of these errors can also be made by humans, especially for one the 9 that is very close to a 4. The last 9 is also very misleading, it seems for me that is a 0."
      ]
    },
    {
      "cell_type": "code",
      "execution_count": 52,
      "metadata": {
        "_cell_guid": "05ff3b9f-c3bb-4cec-a8c2-2c128e8f15b3",
        "_execution_state": "idle",
        "_uuid": "7f17e7bf0a54a01a52fef2d554780f6bc6580dc6",
        "collapsed": true,
        "id": "mpkRAaP7BoYc",
        "colab": {
          "base_uri": "https://localhost:8080/"
        },
        "outputId": "b0cc5e07-6134-4fe6-99d8-d1a2b0210808"
      },
      "outputs": [
        {
          "output_type": "stream",
          "name": "stdout",
          "text": [
            "875/875 [==============================] - 57s 65ms/step\n"
          ]
        }
      ],
      "source": [
        "# predict results\n",
        "results = model.predict(test)\n",
        "\n",
        "# select the indix with the maximum probability\n",
        "results = np.argmax(results,axis = 1)\n",
        "\n",
        "results = pd.Series(results,name=\"Label\")"
      ]
    },
    {
      "cell_type": "code",
      "execution_count": 53,
      "metadata": {
        "_cell_guid": "b5f1f39f-13b8-439a-8913-0f120e3d47a9",
        "_execution_state": "idle",
        "_uuid": "369dfaab09240f3f12bcff91953ffd315ab84985",
        "collapsed": true,
        "id": "V_1wgP7CBoYd"
      },
      "outputs": [],
      "source": [
        "submission = pd.concat([pd.Series(range(1,28001),name = \"ImageId\"),results],axis = 1)\n",
        "\n",
        "submission.to_csv(\"/content/drive/MyDrive/data-set/digit-recognizer/cnn_mnist_datagen.csv\",index=False)"
      ]
    }
  ],
  "metadata": {
    "kernelspec": {
      "display_name": "Python 3",
      "language": "python",
      "name": "python3"
    },
    "language_info": {
      "codemirror_mode": {
        "name": "ipython",
        "version": 3
      },
      "file_extension": ".py",
      "mimetype": "text/x-python",
      "name": "python",
      "nbconvert_exporter": "python",
      "pygments_lexer": "ipython3",
      "version": "3.6.1"
    },
    "colab": {
      "provenance": [],
      "include_colab_link": true
    }
  },
  "nbformat": 4,
  "nbformat_minor": 0
}